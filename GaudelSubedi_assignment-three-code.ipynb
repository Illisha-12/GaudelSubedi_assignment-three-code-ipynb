{
 "cells": [
  {
   "cell_type": "code",
   "execution_count": null,
   "metadata": {
    "scrolled": true
   },
   "outputs": [],
   "source": [
    "#question 1.1\n",
    "Text = \"\"\"\n",
    "Harry lay in his dark cupboard much later, wishing he had a watch. He didn't know what time it was and he couldn't be sure the Dursleys were asleep yet. Until they were, he couldn't risk sneaking to the kitchen for some food. He'd lived with the Dursleys almost ten years, ten miserable years, as long as he could remember, ever since he'd been a baby and his parents had died in that car crash. He couldn't remember being in the car when his parents had died. Sometimes, when he strained his memory during long hours in his cupboard, he came up with a strange vision: a blinding flash of green light and a burning pain on his forehead.  This, he supposed, was the crash, though he couldn't imagine where all the green light came from. He couldn't remember his parents at all. His aunt and uncle never spoke about them, and of course he was forbidden to ask questions. There were no photographs of them in the house. \"\"\"\n",
    "\n",
    "for char in '-.,\\p':\n",
    "    TextM = Text.replace(char, '')\n",
    "TextM = TextM.lower()  \n",
    "word_list = TextM.split()\n",
    "\n",
    "vowels = ['a','e','i','o','u']\n",
    "\n",
    "s = {}\n",
    "\n",
    "for word in word_list:\n",
    "    if word[0] in vowels:\n",
    "        s[word] = s.get(word,0) +1\n",
    "\n",
    "word_freq =[]\n",
    "\n",
    "for key, value in s.items():\n",
    "    word_freq.append((value, key))\n",
    "\n",
    "word_freq.sort(reverse=True)\n",
    "\n",
    "print(\"Frequency of the words starting with  a vowel\")\n",
    "print('\\p')\n",
    "for word in word_freq:\n",
    "    print(word)"
   ]
  },
  {
   "cell_type": "code",
   "execution_count": null,
   "metadata": {
    "scrolled": true
   },
   "outputs": [],
   "source": [
    "#question 1.2\n",
    "\n",
    "Text = \"\"\"\n",
    "Harry lay in his dark cupboard much later, wishing he had a watch. He didn't know what time it was and he couldn't be sure the Dursleys were asleep yet. Until they were, he couldn't risk sneaking to the kitchen for some food. He'd lived with the Dursleys almost ten years, ten miserable years, as long as he could remember, ever since he'd been a baby and his parents had died in that car crash. He couldn't remember being in the car when his parents had died. Sometimes, when he strained his memory during long hours in his cupboard, he came up with a strange vision: a blinding flash of green light and a burning pain on his forehead.  This, he supposed, was the crash, though he couldn't imagine where all the green light came from. He couldn't remember his parents at all. His aunt and uncle never spoke about them, and of course he was forbidden to ask questions. There were no photographs of them in the house. \"\"\"\n",
    "\n",
    "ap_words = [word\n",
    "        for word in word_list\n",
    "          if \"'\" in word]\n",
    "ap_words = list(set(ap_words))\n",
    "\n",
    "print(\"\")\n",
    "\n",
    "print(\"Words with an apostrophe:\")\n",
    "\n",
    "print('\\a')\n",
    "\n",
    "print(ap_words)\n",
    "\n"
   ]
  },
  {
   "cell_type": "code",
   "execution_count": null,
   "metadata": {
    "scrolled": true
   },
   "outputs": [],
   "source": [
    "Question 1.3\n",
    "TextM = Text.replace(char, '')\n",
    "TextM = TextM.lower()  \n",
    "word_list = TextM.split()\n",
    "\n",
    "ap_words = [word\n",
    "        for word in word_list\n",
    "          if \"'\" in word]\n",
    "\n",
    "ap_words = list(set(ap_words))\n",
    "\n",
    "stopwords = []\n",
    "file = open('/Users/AshokLaxmi/Desktop/Stopwords.txt', 'r')\n",
    "for word in file:\n",
    "    stopwords.append(word.strip('\\s'))\n",
    "\n",
    "    Text = \"\"\"\n",
    "Harry lay in his dark cupboard much later, wishing he had a watch. He didn't know what time it was and he couldn't be sure the Dursleys were asleep yet. Until they were, he couldn't risk sneaking to the kitchen for some food. He'd lived with the Dursleys almost ten years, ten miserable years, as long as he could remember, ever since he'd been a baby and his parents had died in that car crash. He couldn't remember being in the car when his parents had died. Sometimes, when he strained his memory during long hours in his cupboard, he came up with a strange vision: a blinding flash of green light and a burning pain on his forehead.  This, he supposed, was the crash, though he couldn't imagine where all the green light came from. He couldn't remember his parents at all. His aunt and uncle never spoke about them, and of course he was forbidden to ask questions. There were no photographs of them in the house. \"\"\"\n",
    "\n",
    "reduced = Text.split()\n",
    "#print(reduced)\n",
    "\n",
    "undict = stopwords + ap_words\n",
    "TextProc = []\n",
    "for t in reduced:\n",
    "     if t.lower() not in undict:\n",
    "        TextProc.append(t)\n",
    "\n",
    "print(\"\")\n",
    "print(\"The text without stopwords/words with an apostrophe is below:\")\n",
    "print('\\s')\n",
    "print(' '.join(TextProc))"
   ]
  },
  {
   "cell_type": "code",
   "execution_count": null,
   "metadata": {},
   "outputs": [],
   "source": [
    "#question 2.1\n",
    "\n",
    "FileA- 2011-Jan-Jun.csv\n",
    "import pandas as pd\n",
    "data = pd.read_csv(r\"/Users/AshokLaxmi/Desktop/FileA-2011-Jan-Jun.csv\")\n",
    "print(data)"
   ]
  },
  {
   "cell_type": "code",
   "execution_count": null,
   "metadata": {
    "scrolled": true
   },
   "outputs": [],
   "source": [
    "#question 2.1\n",
    "\n",
    "FileB- 2018-Jan-June.csv\n",
    "import pandas as pd\n",
    "data = pd.read_csv(r\"/Users/AshokLaxmi/Desktop/FileB-2018-Jan-June.csv\")\n",
    "print(data)"
   ]
  },
  {
   "cell_type": "code",
   "execution_count": 122,
   "metadata": {
    "scrolled": false
   },
   "outputs": [
    {
     "name": "stdout",
     "output_type": "stream",
     "text": [
      "High\n",
      "File name            || mean           || median || standard deviation\n",
      "/Users/AshokLaxmi/Desktop/2011-Jan-June.csv || "
     ]
    },
    {
     "ename": "ValueError",
     "evalue": "could not convert string to float: ",
     "output_type": "error",
     "traceback": [
      "\u001b[0;31m---------------------------------------------------------------------------\u001b[0m",
      "\u001b[0;31mValueError\u001b[0m                                Traceback (most recent call last)",
      "\u001b[0;32m<ipython-input-122-7599d6bc75cf>\u001b[0m in \u001b[0;36m<module>\u001b[0;34m\u001b[0m\n\u001b[1;32m     17\u001b[0m \u001b[0;34m\u001b[0m\u001b[0m\n\u001b[1;32m     18\u001b[0m \u001b[0mprint\u001b[0m\u001b[0;34m(\u001b[0m\u001b[0mfile_A\u001b[0m\u001b[0;34m,\u001b[0m \u001b[0mend\u001b[0m\u001b[0;34m=\u001b[0m\u001b[0mstr_end\u001b[0m\u001b[0;34m)\u001b[0m\u001b[0;34m\u001b[0m\u001b[0;34m\u001b[0m\u001b[0m\n\u001b[0;32m---> 19\u001b[0;31m \u001b[0mprint\u001b[0m\u001b[0;34m(\u001b[0m\u001b[0mst\u001b[0m\u001b[0;34m.\u001b[0m\u001b[0mmean\u001b[0m\u001b[0;34m(\u001b[0m\u001b[0;34m[\u001b[0m\u001b[0mfloat\u001b[0m\u001b[0;34m(\u001b[0m\u001b[0mrow\u001b[0m\u001b[0;34m[\u001b[0m\u001b[0;36m1\u001b[0m\u001b[0;34m]\u001b[0m\u001b[0;34m)\u001b[0m \u001b[0;32mfor\u001b[0m \u001b[0mrow\u001b[0m \u001b[0;32min\u001b[0m \u001b[0marr_1\u001b[0m\u001b[0;34m]\u001b[0m\u001b[0;34m)\u001b[0m\u001b[0;34m,\u001b[0m \u001b[0mend\u001b[0m\u001b[0;34m=\u001b[0m\u001b[0mstr_end\u001b[0m\u001b[0;34m)\u001b[0m\u001b[0;34m\u001b[0m\u001b[0;34m\u001b[0m\u001b[0m\n\u001b[0m\u001b[1;32m     20\u001b[0m \u001b[0mprint\u001b[0m\u001b[0;34m(\u001b[0m\u001b[0mst\u001b[0m\u001b[0;34m.\u001b[0m\u001b[0mmedian\u001b[0m\u001b[0;34m(\u001b[0m\u001b[0;34m[\u001b[0m\u001b[0mfloat\u001b[0m\u001b[0;34m(\u001b[0m\u001b[0mrow\u001b[0m\u001b[0;34m[\u001b[0m\u001b[0;36m1\u001b[0m\u001b[0;34m]\u001b[0m\u001b[0;34m)\u001b[0m \u001b[0;32mfor\u001b[0m \u001b[0mrow\u001b[0m \u001b[0;32min\u001b[0m \u001b[0marr_1\u001b[0m\u001b[0;34m]\u001b[0m\u001b[0;34m)\u001b[0m\u001b[0;34m,\u001b[0m \u001b[0mend\u001b[0m\u001b[0;34m=\u001b[0m\u001b[0mstr_end\u001b[0m\u001b[0;34m)\u001b[0m\u001b[0;34m\u001b[0m\u001b[0;34m\u001b[0m\u001b[0m\n\u001b[1;32m     21\u001b[0m \u001b[0mprint\u001b[0m\u001b[0;34m(\u001b[0m\u001b[0mst\u001b[0m\u001b[0;34m.\u001b[0m\u001b[0mstdev\u001b[0m\u001b[0;34m(\u001b[0m\u001b[0;34m[\u001b[0m\u001b[0mfloat\u001b[0m\u001b[0;34m(\u001b[0m\u001b[0mrow\u001b[0m\u001b[0;34m[\u001b[0m\u001b[0;36m1\u001b[0m\u001b[0;34m]\u001b[0m\u001b[0;34m)\u001b[0m \u001b[0;32mfor\u001b[0m \u001b[0mrow\u001b[0m \u001b[0;32min\u001b[0m \u001b[0marr_1\u001b[0m\u001b[0;34m]\u001b[0m\u001b[0;34m)\u001b[0m\u001b[0;34m)\u001b[0m\u001b[0;34m\u001b[0m\u001b[0;34m\u001b[0m\u001b[0m\n",
      "\u001b[0;32m<ipython-input-122-7599d6bc75cf>\u001b[0m in \u001b[0;36m<listcomp>\u001b[0;34m(.0)\u001b[0m\n\u001b[1;32m     17\u001b[0m \u001b[0;34m\u001b[0m\u001b[0m\n\u001b[1;32m     18\u001b[0m \u001b[0mprint\u001b[0m\u001b[0;34m(\u001b[0m\u001b[0mfile_A\u001b[0m\u001b[0;34m,\u001b[0m \u001b[0mend\u001b[0m\u001b[0;34m=\u001b[0m\u001b[0mstr_end\u001b[0m\u001b[0;34m)\u001b[0m\u001b[0;34m\u001b[0m\u001b[0;34m\u001b[0m\u001b[0m\n\u001b[0;32m---> 19\u001b[0;31m \u001b[0mprint\u001b[0m\u001b[0;34m(\u001b[0m\u001b[0mst\u001b[0m\u001b[0;34m.\u001b[0m\u001b[0mmean\u001b[0m\u001b[0;34m(\u001b[0m\u001b[0;34m[\u001b[0m\u001b[0mfloat\u001b[0m\u001b[0;34m(\u001b[0m\u001b[0mrow\u001b[0m\u001b[0;34m[\u001b[0m\u001b[0;36m1\u001b[0m\u001b[0;34m]\u001b[0m\u001b[0;34m)\u001b[0m \u001b[0;32mfor\u001b[0m \u001b[0mrow\u001b[0m \u001b[0;32min\u001b[0m \u001b[0marr_1\u001b[0m\u001b[0;34m]\u001b[0m\u001b[0;34m)\u001b[0m\u001b[0;34m,\u001b[0m \u001b[0mend\u001b[0m\u001b[0;34m=\u001b[0m\u001b[0mstr_end\u001b[0m\u001b[0;34m)\u001b[0m\u001b[0;34m\u001b[0m\u001b[0;34m\u001b[0m\u001b[0m\n\u001b[0m\u001b[1;32m     20\u001b[0m \u001b[0mprint\u001b[0m\u001b[0;34m(\u001b[0m\u001b[0mst\u001b[0m\u001b[0;34m.\u001b[0m\u001b[0mmedian\u001b[0m\u001b[0;34m(\u001b[0m\u001b[0;34m[\u001b[0m\u001b[0mfloat\u001b[0m\u001b[0;34m(\u001b[0m\u001b[0mrow\u001b[0m\u001b[0;34m[\u001b[0m\u001b[0;36m1\u001b[0m\u001b[0;34m]\u001b[0m\u001b[0;34m)\u001b[0m \u001b[0;32mfor\u001b[0m \u001b[0mrow\u001b[0m \u001b[0;32min\u001b[0m \u001b[0marr_1\u001b[0m\u001b[0;34m]\u001b[0m\u001b[0;34m)\u001b[0m\u001b[0;34m,\u001b[0m \u001b[0mend\u001b[0m\u001b[0;34m=\u001b[0m\u001b[0mstr_end\u001b[0m\u001b[0;34m)\u001b[0m\u001b[0;34m\u001b[0m\u001b[0;34m\u001b[0m\u001b[0m\n\u001b[1;32m     21\u001b[0m \u001b[0mprint\u001b[0m\u001b[0;34m(\u001b[0m\u001b[0mst\u001b[0m\u001b[0;34m.\u001b[0m\u001b[0mstdev\u001b[0m\u001b[0;34m(\u001b[0m\u001b[0;34m[\u001b[0m\u001b[0mfloat\u001b[0m\u001b[0;34m(\u001b[0m\u001b[0mrow\u001b[0m\u001b[0;34m[\u001b[0m\u001b[0;36m1\u001b[0m\u001b[0;34m]\u001b[0m\u001b[0;34m)\u001b[0m \u001b[0;32mfor\u001b[0m \u001b[0mrow\u001b[0m \u001b[0;32min\u001b[0m \u001b[0marr_1\u001b[0m\u001b[0;34m]\u001b[0m\u001b[0;34m)\u001b[0m\u001b[0;34m)\u001b[0m\u001b[0;34m\u001b[0m\u001b[0;34m\u001b[0m\u001b[0m\n",
      "\u001b[0;31mValueError\u001b[0m: could not convert string to float: "
     ]
    }
   ],
   "source": [
    "import csv\n",
    "import statistics as st\n",
    "\n",
    "file_A = r\"/Users/AshokLaxmi/Desktop/2011-Jan-June.csv\"  \n",
    "file_B = r\"/Users/AshokLaxmi/Desktop/2018-Jan-June.csv\" \n",
    "with open(file_A, newline='') as csv_file_A:\n",
    "    arr_1 = list(csv.reader(csv_file_A))\n",
    "\n",
    "with open(file_B, newline='') as csv_file_B:\n",
    "    arr_2 = list(csv.reader(csv_file_B))\n",
    "\n",
    "str_end = ' || '  \n",
    "\n",
    "print('High')\n",
    "\n",
    "print('File name           ' + str_end + 'mean          ' + str_end + 'median' + str_end + 'standard deviation')\n",
    "\n",
    "print(file_A, end=str_end)\n",
    "print(st.mean([float(row[1]) for row in arr_1]), end=str_end)\n",
    "print(st.median([float(row[1]) for row in arr_1]), end=str_end)\n",
    "print(st.stdev([float(row[1]) for row in arr_1]))\n",
    "\n",
    "print(file_B, end=str_end)\n",
    "print(st.mean([float(row[1]) for row in arr_2]), end=str_end)\n",
    "print(st.median([float(row[1]) for row in arr_2]), end=str_end)\n",
    "print(st.stdev([float(row[1]) for row in arr_2]))\n",
    "\n",
    "print('\\n')\n",
    "\n",
    "print('Low')\n",
    "print('File name           ' + str_end + 'mean             ' + str_end + 'median' + str_end + 'standard deviation')\n",
    "\n",
    "print(file_A, end=str_end)\n",
    "print(st.mean([float(row[2]) for row in arr_1]), end=str_end)\n",
    "print(st.median([float(row[2]) for row in arr_1]), end=str_end)\n",
    "print(st.stdev([float(row[2]) for row in arr_1]))\n",
    "\n",
    "print(file_B, end=str_end)\n",
    "print(st.mean([float(row[2]) for row in arr_2]), end=str_end)\n",
    "print(st.median([float(row[2]) for row in arr_2]), end=str_end)\n",
    "print(st.stdev([float(row[2]) for row in arr_2]))\n",
    "\n",
    "print('\\n')\n",
    "\n",
    "print('Precip')\n",
    "\n",
    "print('File name           ' + str_end + 'mean             ' + str_end + 'median' + str_end + 'standard deviation')\n",
    "\n",
    "print(file_A, end=str_end)\n",
    "print(st.mean([float(row[3]) for row in arr_1]), end=str_end)\n",
    "print(st.median([float(row[3]) for row in arr_1]), end=str_end)\n",
    "print(st.stdev([float(row[3]) for row in arr_1]))\n",
    "\n",
    "print(file_B, end=str_end)\n",
    "print(st.mean([float(row[3]) for row in arr_2]), end=str_end)\n",
    "print(st.median([float(row[3]) for row in arr_2]), end=str_end)"
   ]
  },
  {
   "cell_type": "code",
   "execution_count": 121,
   "metadata": {
    "scrolled": false
   },
   "outputs": [
    {
     "name": "stdout",
     "output_type": "stream",
     "text": [
      "Record for student is created.\n",
      "Three students infomation\n"
     ]
    },
    {
     "ename": "AttributeError",
     "evalue": "type object 'Student' has no attribute 'data_input'",
     "output_type": "error",
     "traceback": [
      "\u001b[0;31m---------------------------------------------------------------------------\u001b[0m",
      "\u001b[0;31mAttributeError\u001b[0m                            Traceback (most recent call last)",
      "\u001b[0;32m<ipython-input-121-ebe90170fdab>\u001b[0m in \u001b[0;36m<module>\u001b[0;34m\u001b[0m\n\u001b[1;32m     24\u001b[0m \u001b[0mprint\u001b[0m\u001b[0;34m(\u001b[0m\u001b[0;34m\"Three students infomation\"\u001b[0m\u001b[0;34m)\u001b[0m\u001b[0;34m\u001b[0m\u001b[0;34m\u001b[0m\u001b[0m\n\u001b[1;32m     25\u001b[0m \u001b[0;32mfor\u001b[0m \u001b[0mi\u001b[0m \u001b[0;32min\u001b[0m \u001b[0mrange\u001b[0m\u001b[0;34m(\u001b[0m\u001b[0;36m3\u001b[0m\u001b[0;34m)\u001b[0m\u001b[0;34m:\u001b[0m\u001b[0;34m\u001b[0m\u001b[0;34m\u001b[0m\u001b[0m\n\u001b[0;32m---> 26\u001b[0;31m     \u001b[0mStudents\u001b[0m\u001b[0;34m[\u001b[0m\u001b[0mi\u001b[0m\u001b[0;34m]\u001b[0m \u001b[0;34m=\u001b[0m \u001b[0mStudent\u001b[0m\u001b[0;34m.\u001b[0m\u001b[0mdata_input\u001b[0m\u001b[0;34m(\u001b[0m\u001b[0;34m)\u001b[0m\u001b[0;34m\u001b[0m\u001b[0;34m\u001b[0m\u001b[0m\n\u001b[0m",
      "\u001b[0;31mAttributeError\u001b[0m: type object 'Student' has no attribute 'data_input'"
     ]
    }
   ],
   "source": [
    "class Student(object):\n",
    "\n",
    "    def __init__(self, FName, LName, MName):\n",
    "            self.FirstName = FName\n",
    "            self.LastName = LName\n",
    "            self.MiddleName = MName\n",
    "            self.ClassesTaken = []\n",
    "            self.euid = \"\"\n",
    "            self.GPA = ()\n",
    "print(\"Record for student is created.\")\n",
    "\n",
    "def print_info(self):\n",
    "    print(\"student:\", self.FirstName, \" \", self.MiddleName, \" \", self.LastName )\n",
    "       \n",
    "@classmethod    \n",
    "def data_input(cls):\n",
    "    return cls(\n",
    "      input('First name: '),\n",
    "      input('Last name: '),\n",
    "      input('Middle name: '),\n",
    "        )    \n",
    "\n",
    "Students = {}\n",
    "print(\"Three students infomation\")\n",
    "for i in range(3):  \n",
    "    Students[i] = Student.data_input()"
   ]
  },
  {
   "cell_type": "code",
   "execution_count": 55,
   "metadata": {},
   "outputs": [
    {
     "name": "stdout",
     "output_type": "stream",
     "text": [
      "Student name \t|| Student euid\n",
      "______________________________________\n",
      "Laxmi Subedi Gsudel \t|| lsg5452\n",
      "Amar Shrestha Kumar \t|| ask6372\n",
      "Bina Rana Kumari \t|| brk7420\n"
     ]
    }
   ],
   "source": [
    "#question 3.3\n",
    "import random\n",
    "def create_euid(person):\n",
    "    person.euid = person.FirstName.lower()[0] + person.MiddleName.lower()[0] + person.LastName.lower()[0] + str(random.randint(1000,9999))  \n",
    "    print(person.FirstName,person.MiddleName,person.LastName,'\\t||', person.euid)\n",
    "    \n",
    "print(\"Student name \\t|| Student euid\")  \n",
    "print(\"______________________________________\") \n",
    "for i in range(3): \n",
    "    create_euid(students[i])"
   ]
  },
  {
   "cell_type": "code",
   "execution_count": 58,
   "metadata": {
    "scrolled": true
   },
   "outputs": [
    {
     "name": "stdout",
     "output_type": "stream",
     "text": [
      "How many courses have to register for the student {person.euid}, at least two ? 2\n",
      "Enter Class number, Semester, Grade: INFO 5717, Fall 2019, B\n",
      "Enter Class number, Semester, Grade: INFO 5717, Fall 2019, A\n",
      "How many courses have to register for the student {person.euid}, at least two ? 4\n",
      "Enter Class number, Semester, Grade: INFO 5600, Fall 2019, A\n",
      "Enter Class number, Semester, Grade: INFO 5200, Fall 2019, B\n",
      "Enter Class number, Semester, Grade: INFO 5000, Fall 2019, A\n",
      "Enter Class number, Semester, Grade: INFO 5300, Fall 2019, B\n",
      "How many courses have to register for the student {person.euid}, at least two ? 2\n",
      "Enter Class number, Semester, Grade: INFO 5001, Fall 2019, C\n",
      "Enter Class number, Semester, Grade: INFO 5634, Fall 2019, A\n"
     ]
    }
   ],
   "source": [
    "#question 3.4\n",
    "def register(person):\n",
    "    a = int(input(\"How many courses have to register for the student {person.euid}, at least two ? \"))   \n",
    "    if a < 2:\n",
    "        print(\"Student should be registered for at least two courses!\")\n",
    "        print(\"Please enter correct value\")\n",
    "        a = int(input(\"\"))\n",
    "    for _ in range(a):\n",
    "        C,S,G  = input(\"Enter Class number, Semester, Grade: \").split(\",\")\n",
    "        person.ClassesTaken.append([C,S,G])   \n",
    "        \n",
    "for i in range(3):\n",
    "    register(students[i])"
   ]
  },
  {
   "cell_type": "code",
   "execution_count": 61,
   "metadata": {},
   "outputs": [
    {
     "name": "stdout",
     "output_type": "stream",
     "text": [
      "Student name \t| GPA\n",
      "_______________________________\n",
      "Laxmi Subedi Gsudel \t| 3.5\n",
      "Amar Shrestha Kumar \t| 3.5\n",
      "Bina Rana Kumari \t| 3.0\n"
     ]
    }
   ],
   "source": [
    "# question 3.5\n",
    "def Grade_GPA(Argument):\n",
    "    switcher = {\n",
    "        \"A\": 4, \"B\": 3, \"C\": 2, \"D\": 1, \"E\": 0,\n",
    "    }\n",
    "    return switcher.get(Argument.strip(), 0)\n",
    "\n",
    "def Calculate_GPA(Person):\n",
    "    s = 0\n",
    "    for i in range(len(Person.ClassesTaken)):\n",
    "        count = Person.ClassesTaken[i] \n",
    "        s = s+ int(Grade_GPA(count[2])) #GPA of the class \n",
    "    s = s / len(Person.ClassesTaken)  \n",
    "    return round(s, 2)  \n",
    "\n",
    "print(\"Student name \\t| GPA\")  \n",
    "print(\"_______________________________\") \n",
    "for i in range(3): \n",
    "    print(students[i].FirstName,students[i].MiddleName,students[i].LastName,\"\\t|\",Calculate_GPA(students[i]))"
   ]
  },
  {
   "cell_type": "code",
   "execution_count": 114,
   "metadata": {
    "scrolled": true
   },
   "outputs": [
    {
     "name": "stdout",
     "output_type": "stream",
     "text": [
      "** A Simple Math Quiz **\n",
      "************************\n",
      "2. Subtraction\n",
      "3. Multiplication\n",
      "4. Integer Division\n",
      "5. Exit\n"
     ]
    },
    {
     "ename": "NameError",
     "evalue": "name 'option' is not defined",
     "output_type": "error",
     "traceback": [
      "\u001b[0;31m---------------------------------------------------------------------------\u001b[0m",
      "\u001b[0;31mNameError\u001b[0m                                 Traceback (most recent call last)",
      "\u001b[0;32m<ipython-input-114-b0d7acdfa843>\u001b[0m in \u001b[0;36m<module>\u001b[0;34m\u001b[0m\n\u001b[1;32m     23\u001b[0m     \u001b[0mx1\u001b[0m \u001b[0;34m=\u001b[0m \u001b[0mrandom\u001b[0m\u001b[0;34m.\u001b[0m\u001b[0mrandint\u001b[0m\u001b[0;34m(\u001b[0m\u001b[0;36m1\u001b[0m\u001b[0;34m,\u001b[0m\u001b[0;36m99\u001b[0m\u001b[0;34m)\u001b[0m\u001b[0;34m\u001b[0m\u001b[0;34m\u001b[0m\u001b[0m\n\u001b[1;32m     24\u001b[0m     \u001b[0mx2\u001b[0m \u001b[0;34m=\u001b[0m \u001b[0mrandom\u001b[0m\u001b[0;34m.\u001b[0m\u001b[0mrandint\u001b[0m\u001b[0;34m(\u001b[0m\u001b[0;36m1\u001b[0m\u001b[0;34m,\u001b[0m\u001b[0;36m99\u001b[0m\u001b[0;34m)\u001b[0m\u001b[0;34m\u001b[0m\u001b[0;34m\u001b[0m\u001b[0m\n\u001b[0;32m---> 25\u001b[0;31m \u001b[0;32mif\u001b[0m  \u001b[0moption\u001b[0m \u001b[0;34m==\u001b[0m \u001b[0;36m1\u001b[0m\u001b[0;34m:\u001b[0m\u001b[0;34m\u001b[0m\u001b[0;34m\u001b[0m\u001b[0m\n\u001b[0m\u001b[1;32m     26\u001b[0m     \u001b[0mproblem\u001b[0m \u001b[0;34m=\u001b[0m \u001b[0mstr\u001b[0m\u001b[0;34m(\u001b[0m\u001b[0mx1\u001b[0m\u001b[0;34m)\u001b[0m \u001b[0;34m+\u001b[0m \u001b[0;34m\"+\"\u001b[0m \u001b[0;34m+\u001b[0m \u001b[0mstr\u001b[0m\u001b[0;34m(\u001b[0m\u001b[0mx2\u001b[0m\u001b[0;34m)\u001b[0m\u001b[0;34m\u001b[0m\u001b[0;34m\u001b[0m\u001b[0m\n\u001b[1;32m     27\u001b[0m     \u001b[0mansw\u001b[0m \u001b[0;34m=\u001b[0m \u001b[0mx1\u001b[0m \u001b[0;34m+\u001b[0m \u001b[0mx2\u001b[0m\u001b[0;34m\u001b[0m\u001b[0;34m\u001b[0m\u001b[0m\n",
      "\u001b[0;31mNameError\u001b[0m: name 'option' is not defined"
     ]
    }
   ],
   "source": [
    "def quiz_introduction():\n",
    "        print(\"*\" * 24)\n",
    "print(\"** A Simple Math Quiz **\")\n",
    "print(\"*\" * 24)\n",
    "\n",
    "def quiz_questions_init():\n",
    "      print(\"1. Addition\")\n",
    "print(\"2. Subtraction\")\n",
    "print(\"3. Multiplication\")\n",
    "print(\"4. Integer Division\")\n",
    "print(\"5. Exit\")\n",
    "\n",
    "def section_separator():\n",
    "# print \"---------------------\" to separate each section\n",
    "  print(\"-\" * 24)\n",
    "    \n",
    "def get_user_question_choice():\n",
    "    val = int(input(\"Enter your choice: \"))\n",
    "    return val\n",
    "\n",
    "def quiz_questions(option, count):\n",
    "    import random\n",
    "    x1 = random.randint(1,99)\n",
    "    x2 = random.randint(1,99)\n",
    "if  option == 1:\n",
    "    problem = str(x1) + \"+\" + str(x2)\n",
    "    answ = x1 + x2\n",
    "elif option == 2:\n",
    "    problem = str(x1) + \"-\" + str(x2)\n",
    "    answ = x1 - x2\n",
    "elif option == 3:\n",
    "    problem = str(x1) + \"*\" + str(x2)\n",
    "    answ = x1 * x2\n",
    "elif option == 4:\n",
    "    problem = str(x1) + \" // \" + str(x2)\n",
    "    answ = x1 // x2\n",
    "user_answ = get_user_input_solution(problem)\n",
    "res = solution_checking(user_answ, answ, count)\n",
    "return res\n",
    "\n",
    "def get_user_input_solution(problem):\n",
    "    print(\"Enter your answer\")\n",
    "    print(problem, end=\"\")\n",
    "    result = int(input(\" = \"))\n",
    "    return result\n",
    "\n",
    "def show_result(total, correct):\n",
    "    print(f\"You answered {total} questions with {correct} correct.\")\n",
    "    print(f\"Your score is {round(correct*100/total,2)}%. Thank you.\")\n",
    "\n",
    "def solution_checking(user_solution, solution, count):\n",
    "    if int(user_solution) == int(solution):\n",
    "        res = count + 1\n",
    "        print(\"Correct.\")\n",
    "    else:\n",
    "        res = count\n",
    "        print(\"Wrong.\")\n",
    "    return res\n",
    "\n",
    "def main():\n",
    "    total = 0\n",
    "    correct = 0\n",
    "    quiz_introduction()\n",
    "    quiz_questions_init()\n",
    "    section_separator()\n",
    "    option = get_user_question_choice()\n",
    "    while option != 5:\n",
    "        total = total + 1\n",
    "        correct = quiz_questions(option, correct)\n",
    "        option = get_user_question_choice()\n",
    "    print(\"Exit the quiz.\")\n",
    "    section_separator()\n",
    "    show_result(total, correct)\n",
    "\n",
    "\n",
    "main()\n",
    "\n",
    "\n"
   ]
  },
  {
   "cell_type": "code",
   "execution_count": 113,
   "metadata": {},
   "outputs": [],
   "source": [
    "def section_separator():\n",
    "# print \"---------------------\" to separate each section\n",
    "  print(\"-\" * 24)\n",
    "    "
   ]
  },
  {
   "cell_type": "code",
   "execution_count": null,
   "metadata": {},
   "outputs": [],
   "source": []
  }
 ],
 "metadata": {
  "kernelspec": {
   "display_name": "Python 3",
   "language": "python",
   "name": "python3"
  },
  "language_info": {
   "codemirror_mode": {
    "name": "ipython",
    "version": 3
   },
   "file_extension": ".py",
   "mimetype": "text/x-python",
   "name": "python",
   "nbconvert_exporter": "python",
   "pygments_lexer": "ipython3",
   "version": "3.7.3"
  }
 },
 "nbformat": 4,
 "nbformat_minor": 2
}
